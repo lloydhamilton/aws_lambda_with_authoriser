{
 "cells": [
  {
   "cell_type": "markdown",
   "metadata": {},
   "source": [
    "# 1. Introduction to the MNIST data\n",
    "\n",
    "For this classification project, we will be using the MNIST data set that contain 70,000 images of handwritten digits. In this data set, each row represents an image and each column a pixel from a 28 by 28 pixel image. The MNIST dataset is widely used to train classifiers and can be fetched using the helper function sklearn.datasets.fetch_openml.\n",
    "\n",
    "The code below will download the data, and sample 20,000 rows from the original dataset. I will be reducing the number of rows in the dataset to decrease model size and to reduce build time for this project. The code below will also plot the first image in the data set which we can see is the number eight."
   ]
  },
  {
   "cell_type": "code",
   "execution_count": null,
   "metadata": {},
   "outputs": [],
   "source": [
    "from sklearn.datasets import fetch_openml\n",
    "import matplotlib.pyplot as plt\n",
    "import pandas as pd\n",
    "\n",
    "# Load data\n",
    "mnist = fetch_openml(\"mnist_784\", version=1)\n",
    "\n",
    "# Randomly sample 20000 rows from the original dataset\n",
    "mnist_data = (\n",
    "    mnist\n",
    "    .data\n",
    "    .sample(n=20000, random_state=42, axis=0, replace=False)\n",
    ")\n",
    "\n",
    "# Slice target by the same row sampling\n",
    "target = (\n",
    "    mnist\n",
    "    .target\n",
    "    .loc[mnist_data.index].astype('uint8')\n",
    ")\n",
    "\n",
    "# Reshape values to be 28x28\n",
    "some_digit_image = (\n",
    "    mnist_data\n",
    "    .iloc[0]\n",
    "    .values\n",
    "    .reshape(28,28)\n",
    "    .astype('float32')\n",
    ")\n",
    "plt.imshow(some_digit_image, cmap = \"binary\")\n",
    "plt.axis(\"off\")"
   ]
  },
  {
   "cell_type": "markdown",
   "metadata": {},
   "source": [
    "<hr>\n",
    "\n",
    "# 2. Training a K-Nearest Neighbors Classifier\n",
    "\n",
    "First we will split the data into training and test set then train a K-nearest neighbour classifier using thescikit-learn library."
   ]
  },
  {
   "cell_type": "code",
   "execution_count": null,
   "metadata": {},
   "outputs": [],
   "source": [
    "from sklearn.model_selection import train_test_split\n",
    "from sklearn.neighbors import  KNeighborsClassifier\n",
    "from sklearn.model_selection import cross_val_score\n",
    "import numpy as np\n",
    "\n",
    "# Function to train KNN Classifier and show scores\n",
    "def train_knn_model(features:np.array, target:np.array):\n",
    "\n",
    "    # Train KNN Classifier\n",
    "    knnclf = KNeighborsClassifier(weights='distance', n_neighbors=4)\n",
    "    knnclf.fit(features, target)\n",
    "    scores = cross_val_score(\n",
    "        knnclf, features, target, scoring='accuracy', cv=10\n",
    "    )\n",
    "    print(f'Cross Validation Scores: {scores}')\n",
    "    print(f'Average accuracy: {np.mean(scores)}')\n",
    "    return knnclf, scores\n",
    "\n",
    "# Split data to training and test set\n",
    "train_features, test_features, train_target, test_target = train_test_split(\n",
    "        mnist_data, target, test_size = 0.2, random_state = 42\n",
    ")\n",
    "knnclf, scores = train_knn_model(train_features, train_target)"
   ]
  },
  {
   "cell_type": "markdown",
   "metadata": {},
   "source": [
    "The model achieves a decent average accuracy of 96% from cross validation. Let's evaluate the model's performance on the test_features data set and plot a confusion matrix with the show_cm function as shown below."
   ]
  },
  {
   "cell_type": "code",
   "execution_count": null,
   "metadata": {},
   "outputs": [],
   "source": [
    "import numpy as np\n",
    "from sklearn.metrics import confusion_matrix, ConfusionMatrixDisplay\n",
    "from sklearn.metrics import accuracy_score\n",
    "\n",
    "def show_cm(y_true, y_pred, labels):\n",
    "\n",
    "    # Display Confusion matrix and show accuracy scores\n",
    "    conf_mat = confusion_matrix(y_true, y_pred, labels=labels)\n",
    "    disp = ConfusionMatrixDisplay(confusion_matrix=conf_mat, display_labels=labels)\n",
    "    score = accuracy_score(y_true, y_pred)\n",
    "    print(f'Accuracy: {score}')\n",
    "    disp.plot();\n",
    "\n",
    "# Make predictions\n",
    "test_target_pred = knnclf.predict(test_features)\n",
    "# Show confusion matrix\n",
    "show_cm(test_target, test_target_pred, range(10))"
   ]
  },
  {
   "cell_type": "markdown",
   "metadata": {},
   "source": [
    "Base on the accuracy on the test data set, we can see that our model fits the data. We get very similar prediction accuracy when comparing accuracies between the training and testing set. \n",
    "\n",
    "Furthermore, a confusion matrix, like above, is very effective in helping visualise the gaps in the model's performance. It will help us understand the kind of errors that the classifier is making.\n",
    "\n",
    "The matrix indicates that there were 16 instances where the number 4 was misidentified for the number 9, and 12 instances where the number 8 was misidentified for the number 5. \n",
    "\n",
    "Looking at the images below, it is possible to see why some of these errors may occur as the number 4 and 9 do share some similar features. Likewise for the number 8 and 5."
   ]
  },
  {
   "cell_type": "code",
   "execution_count": null,
   "metadata": {
    "scrolled": true
   },
   "outputs": [],
   "source": [
    "import matplotlib.pyplot as plt\n",
    "\n",
    "def show_digits(pixel_vals):\n",
    "\n",
    "    some_digit_image = (\n",
    "        pixel_vals\n",
    "        .values\n",
    "        .reshape(28,28)\n",
    "        .astype('float32')\n",
    "    )\n",
    "    plt.imshow(some_digit_image, cmap = \"binary\")\n",
    "    plt.axis(\"off\")\n",
    "\n",
    "fours = train_features[train_target == 4]\n",
    "nines = train_features[train_target == 9]\n",
    "eights = train_features[train_target == 8]\n",
    "fives = train_features[train_target == 5]\n",
    "\n",
    "plt.figure(figsize=(8,8))\n",
    "plt.subplot(221); show_digits(fours.iloc[0])\n",
    "plt.subplot(222); show_digits(nines.iloc[0])\n",
    "plt.subplot(223); show_digits(eights.iloc[1])\n",
    "plt.subplot(224); show_digits(fives.iloc[1])"
   ]
  },
  {
   "cell_type": "markdown",
   "metadata": {},
   "source": [
    "This insight is not going to affect model deployment on AWS but will help guide strategies to further improve the model. \n",
    "For now, we will save the model locally to be containerised as part of the lambda function using Docker."
   ]
  },
  {
   "cell_type": "code",
   "execution_count": null,
   "metadata": {
    "scrolled": true
   },
   "outputs": [],
   "source": [
    "import joblib\n",
    "\n",
    "joblib.dump(knnclf, 'app/knnclf.joblib')"
   ]
  },
  {
   "cell_type": "markdown",
   "metadata": {},
   "source": [
    "<hr>\n",
    "\n",
    "# 3. Initialising AWS S3 Bucket\n",
    "\n",
    "The image below illustrates the overall resource infrastructure that will need to be deployed to support our lambda function. There are three key resources requirements for our application:\n",
    "\n",
    "1. S3 Bucket to store data.\n",
    "2. API gateway to manage HTTP requests.\n",
    "3. Lambda function containing the predictive logic.\n",
    "\n",
    "![](overview.png)\n",
    "\n",
    "#### Serverless deployment of ML models\n",
    "\n",
    "1. Test data is uploaded to a S3 bucket.\n",
    "\n",
    "2. To initiate the lambda function, a POST HTTP request is sent through the Amazon API Gateway. \n",
    "\n",
    "3. Initialisation of the lambda function executes code that downloads the data from the S3 bucket and performs predictions. \n",
    "\n",
    "4. A HTTP response is returned to client with the predictions as a data payload.\n",
    "\n",
    "The Lambda function will contain Python code that performs a prediction based on the test_features dataset stored on a S3 bucket. \n",
    "\n",
    "Therefore, we will first need to initialise a S3 bucket where we can host our data.\n",
    "\n",
    "To do so, we will be interacting with AWS using the AWS Python SDK `boto3`. This package contains all the dependencies we require to integrate Python projects with AWS. \n",
    "\n",
    "Let's initialise a S3 bucket with the code below.\n",
    "\n",
    "***Note:*** *The `bucket_name` has to be unique therefore you will have to replace the bucket_name with a name that is not taken.*"
   ]
  },
  {
   "cell_type": "code",
   "execution_count": null,
   "metadata": {
    "collapsed": true
   },
   "outputs": [],
   "source": [
    "import boto3\n",
    "\n",
    "def create_bucket(region:str, bucket_name:str) -> dict:\n",
    "\n",
    "    s3 = boto3.client('s3')\n",
    "    response = s3.create_bucket(\n",
    "        Bucket=bucket_name,\n",
    "        CreateBucketConfiguration={\n",
    "            'LocationConstraint':region\n",
    "        }\n",
    "    )\n",
    "    return response\n",
    "\n",
    "region = 'eu-west-2'\n",
    "bucket_name = 'lh-lambda-buckets-2022'\n",
    "create_bucket(region, bucket_name)"
   ]
  },
  {
   "cell_type": "markdown",
   "metadata": {},
   "source": [
    "#### Upload Test data to S3\n",
    "\n",
    "The S3 bucket will host our test_features data set which we can call in our lambda function to perform a prediction.\n",
    "\n",
    "To save an object currently in our workspace, we will be making use of BytesIO function from the io library. This will enable us to temporary store the test_features data set in a file object. This file object can be uploaded onto a S3 bucket by calling the .upload_fileobj function.\n",
    "\n",
    "The bucket variable defines the destination S3 bucket and the key variable will define the file path in the bucket. The `bucket` and `key` variables will form part of the data payload in the POST HTTP request to our lambda function.\n"
   ]
  },
  {
   "cell_type": "code",
   "execution_count": null,
   "metadata": {},
   "outputs": [],
   "source": [
    "from io import BytesIO\n",
    "import joblib\n",
    "import boto3\n",
    "\n",
    "def UploadToS3(data, bucket:str, key:str):\n",
    "\n",
    "    with BytesIO() as f:\n",
    "        joblib.dump(data, f)\n",
    "        f.seek(0)\n",
    "        (\n",
    "            boto3\n",
    "            .client('s3')\n",
    "            .upload_fileobj(Bucket=bucket, Key=key, Fileobj=f)\n",
    "        )\n",
    "\n",
    "bucket_name = 'lh-lambda-buckets-202222'\n",
    "key =  'validation/test_features.joblib'\n",
    "UploadToS3(test_features, bucket_name, key)"
   ]
  },
  {
   "cell_type": "markdown",
   "metadata": {},
   "source": [
    "#### List all objects in S3 bucket\n",
    "\n",
    "We can check if the objects have been uploaded with the helper function below. list_s3_objects will list all objects in the defined bucket."
   ]
  },
  {
   "cell_type": "code",
   "execution_count": null,
   "metadata": {},
   "outputs": [],
   "source": [
    "import boto3\n",
    "\n",
    "def listS3Objects(bucket:str) -> list:\n",
    "\n",
    "     # Connect to s3 resource\n",
    "    s3 = boto3.resource('s3')\n",
    "    my_bucket = s3.Bucket(bucket)\n",
    "\n",
    "    # List all object keys in s3 bucket\n",
    "    obj_list = [object_summary.key for object_summary in my_bucket.objects.all()]\n",
    "    return obj_list\n",
    "\n",
    "listS3Objects('lh-lambda-buckets-2022')\n"
   ]
  },
  {
   "cell_type": "markdown",
   "metadata": {},
   "source": [
    "We have now successfully initialised a S3 bucket to store the test_feature data. The next two key resources, API Gateway and lambda function, will be deployed using AWS Serverless Application Model (SAM). Refer to main blog for details."
   ]
  },
  {
   "cell_type": "markdown",
   "metadata": {},
   "source": [
    "<hr>\n",
    "\n",
    "# 4. Deploying and Testing AWS Lambda Functions with SAM"
   ]
  },
  {
   "cell_type": "markdown",
   "metadata": {},
   "source": [
    "#### 4.4. Building and testing the application locally.\n",
    "\n",
    "AWS SAM provide functionality to build and locally test applications before deployment. \n",
    "Ensure docker is running. \n",
    "\n",
    "In a terminal window, navigate to the project directory and build the application in SAM.\n",
    "\n",
    "a) Ensure docker is running. In a terminal window, navigate to the project directory and build the application in SAM.\n",
    "\n",
    "`sam build -t template_no_auth.yaml`\n",
    "\n",
    "b) Locally deploy the dockerised lambda function.\n",
    "\n",
    "`sam local start-api`\n",
    "\n",
    "c) Locally invoke the function at http://127.0.0.1:3000/predict. Your URL may differ.\n",
    "\n",
    "***Note***: *The `bucket` and `key` variable which references the test_feature data set on S3 will need to be passed as part of the data payload in the POST HTTP request.*"
   ]
  },
  {
   "cell_type": "code",
   "execution_count": null,
   "metadata": {},
   "outputs": [],
   "source": [
    "import requests\n",
    "import json\n",
    "import numpy as np\n",
    "\n",
    "bucket_name = 'lh-lambda-buckets-202222'\n",
    "key =  'validation/test_features.joblib'\n",
    "\n",
    "data = {\n",
    "    'bucket':bucket_name,\n",
    "    'key':key,\n",
    "}\n",
    "\n",
    "headers = {\n",
    "    'Content-type': \"application/json\"\n",
    "}\n",
    "\n",
    "# Main code for post HTTP request\n",
    "url = \"http://127.0.0.1:3000/predict\"\n",
    "response = requests.request(\"POST\", url, headers=headers, data=json.dumps(data))\n",
    "lambda_predictions = np.array(response.json())\n",
    "show_cm(test_target, lambda_predictions, range(10))"
   ]
  },
  {
   "cell_type": "markdown",
   "metadata": {},
   "source": [
    "#### 4.5 Deploying on AWS Lambda\n",
    "\n",
    "As easy as it was to deploy locally, SAM will also handle all the heavy lifting to deploy on AWS Lambda.\n",
    "\n",
    "a) Build the application in SAM.\n",
    "\n",
    "`sam build -t template_no_auth.yaml`\n",
    "\n",
    "b) Deploy the application.\n",
    "\n",
    "`sam deploy --guided`\n",
    "\n",
    "Follow the prompts that guides you through the deployment configurations. Most of the settings I used were the default value with a few exceptions. See main blog for details.\n",
    "\n",
    "c) Invoke your function by replacing the URL in the code below with the URL from the output out of a successfully deployed stack."
   ]
  },
  {
   "cell_type": "code",
   "execution_count": null,
   "metadata": {},
   "outputs": [],
   "source": [
    "import requests\n",
    "import json\n",
    "import numpy as np\n",
    "\n",
    "def show_cm(y_true, y_pred, labels):\n",
    "\n",
    "    # Display Confusion matrix and show accuracy scores\n",
    "    conf_mat = confusion_matrix(y_true, y_pred, labels=labels)\n",
    "    disp = ConfusionMatrixDisplay(confusion_matrix=conf_mat, display_labels=labels)\n",
    "    score = accuracy_score(y_true, y_pred)\n",
    "    print(f'Accuracy: {score}')\n",
    "    disp.plot();\n",
    "\n",
    "bucket_name = 'lh-lambda-buckets-202222'\n",
    "key =  'validation/test_features.joblib'\n",
    "\n",
    "data = {\n",
    "    'bucket':bucket_name,\n",
    "    'key':key,\n",
    "}\n",
    "\n",
    "headers = {\n",
    "    'Content-type': \"application/json\"\n",
    "}\n",
    "\n",
    "# Main code for post HTTP request\n",
    "url = \"https://k1o73e73t4.execute-api.eu-west-2.amazonaws.com/dev/predict \"\n",
    "response = requests.request(\"POST\", url, headers=headers, data=json.dumps(data))\n",
    "# lambda_predictions = np.array(response.json())\n",
    "# show_cm(test_target, lambda_predictions, range(10))"
   ]
  },
  {
   "cell_type": "code",
   "execution_count": null,
   "metadata": {},
   "outputs": [],
   "source": [
    "bucket_name = 'lh-lambda-buckets-202222'\n",
    "key =  'validation/test_features.joblib'\n",
    "\n",
    "data = {\n",
    "    'bucket':bucket_name,\n",
    "    'key':key,\n",
    "}\n",
    "\n",
    "headers = {\n",
    "    'Content-type': \"application/json\"\n",
    "}\n",
    "\n",
    "# Main code for post HTTP request\n",
    "url = \"https://k1o73e73t4.execute-api.eu-west-2.amazonaws.com/dev/predict \"\n",
    "response = requests.request(\"POST\", url, headers=headers, data=json.dumps(data))"
   ]
  },
  {
   "cell_type": "markdown",
   "metadata": {},
   "source": [
    "Documentation to sign API requests\n",
    "\n",
    "https://docs.aws.amazon.com/general/latest/gr/signature-v4-examples.html\n",
    "https://docs.aws.amazon.com/general/latest/gr/sigv4-create-string-to-sign.html\n",
    "https://docs.aws.amazon.com/code-samples/latest/catalog/python-signv4-v4-signing-get-post.py.html\n",
    "\n",
    "example\n",
    "\n"
   ]
  },
  {
   "cell_type": "code",
   "execution_count": null,
   "metadata": {},
   "outputs": [],
   "source": [
    "from src import aws_sign_v4\n",
    "import boto3\n",
    "\n",
    "session = boto3.Session()\n",
    "credentials = session.get_credentials()\n",
    "\n",
    "request = aws_sign_v4.sign_v4(\n",
    "    method = 'POST',\n",
    "    endpoint = 'https://k1o73e73t4.execute-api.eu-west-2.amazonaws.com/dev/predict',\n",
    "    access_key=credentials.access_key,\n",
    "    secret_key=credentials.secret_key,\n",
    "    data = {\n",
    "        'bucket':'lh-lambda-buckets-202222',\n",
    "        'key':'validation/test_features.joblib'\n",
    "    },\n",
    "    service = 'execute-api',\n",
    "    region = 'eu-west-2'\n",
    ")"
   ]
  },
  {
   "cell_type": "markdown",
   "metadata": {},
   "source": [
    "If user needs to change password, you need to autheenticate_and_get_token. Then respond to Auth challenge with new password. After which they can login in again using authenticate_and_get_token to get Access Token and ID token."
   ]
  },
  {
   "cell_type": "code",
   "execution_count": null,
   "metadata": {},
   "outputs": [],
   "source": [
    "from src.cognito import Cognito\n",
    "\n",
    "c = Cognito('lloydstanhamilton@hotmail.com','xZNwDX')\n",
    "c.auth_challenge('2pukgsua3nloh6m1ctrtu995c2','CodeClan321')"
   ]
  },
  {
   "cell_type": "code",
   "execution_count": null,
   "metadata": {},
   "outputs": [],
   "source": [
    "# can anyone just create a login and call the function?\n",
    "\n",
    "from src.cognito import Cognito\n",
    "import requests\n",
    "import json\n",
    "import numpy as np\n",
    "\n",
    "# Read Credentials\n",
    "with open('creds.json', 'rb') as f:\n",
    "    creds = json.load(f)\n",
    "\n",
    "# Initialise Cognito class object\n",
    "cognito = Cognito(\"creds['username']\")\n",
    "\n",
    "# Get temporary tokens\n",
    "response, access_token, id_token = cognito.get_token(\n",
    "    client_id = '2pukgsua3nloh6m1ctrtu995c2',\n",
    "    password = creds['password']\n",
    ")\n",
    "\n",
    "# Use temporary id token as authentication headers\n",
    "request = requests.post(\n",
    "    'https://k1o73e73t4.execute-api.eu-west-2.amazonaws.com/dev/predict', \n",
    "    json = {\n",
    "        'bucket':'lh-lambda-buckets-202222',\n",
    "        'key':'validation/test_features.joblib'\n",
    "    },\n",
    "    headers={\n",
    "        'Authorization':id_token\n",
    "    })\n",
    "\n",
    "pred = np.array(request.json())\n",
    "print(pred)"
   ]
  },
  {
   "cell_type": "code",
   "execution_count": null,
   "metadata": {},
   "outputs": [],
   "source": [
    "# TODO checkout user pool groups?\n",
    "import boto3\n",
    "client = boto3.client('cognito-idp')\n",
    "resp = client.sign_up(\n",
    "    ClientId = '2pukgsua3nloh6m1ctrtu995c2',\n",
    "    Username = 'lloydstanhamilton@hotmail.com',\n",
    "    Password = 'Qwerty'    \n",
    ")\n",
    "resp"
   ]
  },
  {
   "cell_type": "code",
   "execution_count": 1,
   "metadata": {},
   "outputs": [
    {
     "data": {
      "text/plain": [
       "{'User': {'Username': '59553abc-d566-4f89-a1cd-0d05e7ea7e90',\n",
       "  'Attributes': [{'Name': 'sub',\n",
       "    'Value': '59553abc-d566-4f89-a1cd-0d05e7ea7e90'},\n",
       "   {'Name': 'email', 'Value': 'lloyd.lm.hamilton@gmail.com'}],\n",
       "  'UserCreateDate': datetime.datetime(2022, 1, 25, 11, 2, 42, 861000, tzinfo=tzlocal()),\n",
       "  'UserLastModifiedDate': datetime.datetime(2022, 1, 25, 11, 2, 42, 861000, tzinfo=tzlocal()),\n",
       "  'Enabled': True,\n",
       "  'UserStatus': 'FORCE_CHANGE_PASSWORD'},\n",
       " 'ResponseMetadata': {'RequestId': 'b65f0886-aaa0-4a55-a16a-d57d80037ae1',\n",
       "  'HTTPStatusCode': 200,\n",
       "  'HTTPHeaders': {'date': 'Tue, 25 Jan 2022 11:02:43 GMT',\n",
       "   'content-type': 'application/x-amz-json-1.1',\n",
       "   'content-length': '318',\n",
       "   'connection': 'keep-alive',\n",
       "   'x-amzn-requestid': 'b65f0886-aaa0-4a55-a16a-d57d80037ae1'},\n",
       "  'RetryAttempts': 0}}"
      ]
     },
     "execution_count": 1,
     "metadata": {},
     "output_type": "execute_result"
    }
   ],
   "source": [
    "from src.cognito import Cognito\n",
    "cognito = Cognito('lloyd.lm.hamilton@gmail.com')\n",
    "cognito.create_user('eu-west-2_PPef8jLjl')\n"
   ]
  },
  {
   "cell_type": "code",
   "execution_count": 2,
   "metadata": {},
   "outputs": [
    {
     "name": "stderr",
     "output_type": "stream",
     "text": [
      "💬 INFO 2022-01-25 11:05:31,717 cognito.py login 42 Log in Successful\n",
      "💬 INFO 2022-01-25 11:05:31,940 cognito.py auth_challenge 88 Password Changed\n"
     ]
    },
    {
     "data": {
      "text/plain": [
       "{'ChallengeParameters': {},\n",
       " 'AuthenticationResult': {'AccessToken': 'eyJraWQiOiIyTnpKcFRxRWtCSCtNclp5QjRmeUkwbGNMcFdEVnhFRHY0akpHUHdHQ1ZZPSIsImFsZyI6IlJTMjU2In0.eyJvcmlnaW5fanRpIjoiMDliY2EwNmItZmU1ZS00NzJlLWJmMmUtYmE1YTE1NjFkODFmIiwic3ViIjoiNTk1NTNhYmMtZDU2Ni00Zjg5LWExY2QtMGQwNWU3ZWE3ZTkwIiwiZXZlbnRfaWQiOiI1MDIwZjE5Yi02ZWI3LTQ1OGYtYjZlZS03ZTJkNWU1NzlhZWMiLCJ0b2tlbl91c2UiOiJhY2Nlc3MiLCJzY29wZSI6ImF3cy5jb2duaXRvLnNpZ25pbi51c2VyLmFkbWluIiwiYXV0aF90aW1lIjoxNjQzMTA4NzMxLCJpc3MiOiJodHRwczpcL1wvY29nbml0by1pZHAuZXUtd2VzdC0yLmFtYXpvbmF3cy5jb21cL2V1LXdlc3QtMl9QUGVmOGpMamwiLCJleHAiOjE2NDMxMTIzMzEsImlhdCI6MTY0MzEwODczMSwianRpIjoiYzI3NjAxNmEtMjhjZi00MDg3LTlhN2YtZjcxOWNjYzA3OTBiIiwiY2xpZW50X2lkIjoiMnB1a2dzdWEzbmxvaDZtMWN0cnR1OTk1YzIiLCJ1c2VybmFtZSI6IjU5NTUzYWJjLWQ1NjYtNGY4OS1hMWNkLTBkMDVlN2VhN2U5MCJ9.f2yh1g_ZcHtI69AkOdBvkmGff7bp3AokxG2aX4C2HsUh3OyF66xg41JXLqH5EFJvBW3PVKwD36ZU3ss89Tj9rWtTFpaT5N1xgZmq4dqu6fRKWQXmxEyiGFrf90P_MeMrXmNGi3mNqm7AVlFW9UrL87F2lrp3IO6CiAeRWArknPdEc1zF8jJud9ISUakalktdJ1Q7Wa-EE7jOAdArf-ep4Uh4LNeg0eDmUPVH0Rs6nRfClgDMUsl1moNbbfp5fZMci4uYp-4_k4ag8peXJDaB7qprBFlROZb8hZsjg1VFwDv01EhBOEsRKFoFXMeet_ulAv6gQDH3DYYAJ033QUyYQw',\n",
       "  'ExpiresIn': 3600,\n",
       "  'TokenType': 'Bearer',\n",
       "  'RefreshToken': 'eyJjdHkiOiJKV1QiLCJlbmMiOiJBMjU2R0NNIiwiYWxnIjoiUlNBLU9BRVAifQ.oC1yZaN1vg9O6JizyoUSChFEqt7Sq82MFvCP5VtpLJYCNq-M2orDZXQjRlY9WaHuwhbHRN-3hxtnO-NoZenUj9JYes4h6ynDq1H8JrESRHsWD2LWDv8Ek1H2lhGNwH6OowOcDZYY5nOgV5h4j1ZA1lk-zOEDEgWo9SxcawVAjwIb-ElDsjo8I_mJHGzvgoaA7mFZJsPoD3JDVhiMysQwn2wWkAYVHvTKWBM1Boqx0UMdhFoCVECSiaROSqiwu3keS62Hg6oSmKuawTJF_M6HEgiKO3ttAkl9O3xuh_0zrRkRvuKnLZMkDp5vC0MFr8dDjyQLCloxQ4lVnjPg2c6O-g.F7tuh784NMJj3BXZ.ciN3Vu3czVP7LVqRUJD1d0rHAiTh1mW3zf8a8Zakpo9fHlfEAHC-cYTJ_YWEyNPHkaWf0iTFjL3slX8zY-GoXwVh3buKUcDVzRD6r3vXwN0k-0J-mkRQI9bgciy20Um1BzEWGDcKe9S_2irWgMYopm8EVX7jtFAukE9eJlYbJImGPYe7qgIjoh65BJ9-dLMerNnYLHzwOJLLb_z1bWxDxrvDuzJBqRbuve4IQkn9-cPOySadqnBLSBAc4HTbDWmQ8392IBTdURFyeneZBzUsyAP9ovG5RvD7Aao9V4QPjEB1sLZzaK-AIk12Xy28EiMklPDcY6kJHA5o5MO0tg6Op7yvkIniZMyA2NPHtS1C1TFadJAdFEwnsJ5-K1WAY-afj4SGJ-e-iOm72BHQyM0WuZOfqqT2GdtlNZCkYHGbgwoKso9pIWpxJ94CbmlQ2-_maCIRGcW7qcrg9QfFdrxOZMksc3_vQsbOoZ77gy7VQOkhIvXY5mH7jTJAx1PsKcyGjxcQ-HrTA3jPDYm_7R7bOlDPowjEB5HqfDdx4iRakwh6EztCbvstXEI3j2yK84eOvgsNmo55oRCwlnmPTvwjagGQdbplMgTbT5LIK2DyOb-EING3bUx87zR03lxfw0n8MXAZKXAJo895z8Nr5-ZhsJtQWnln3wXjPjci7OrvU5KdslvuAU1u6myPTk8O5-hsyQknOkWOviAXro3_IjHLJFJf--UnL5Q_uvagomzGr66QNlrorvDIKbi3MAIrqzYFy2QUEd0EgRGCgSELVAlKlfhX3mOQdwS84MMZHaH8dUhAvEz89B7b8PcrSaIa4GMNWdAcpY0fZLAEufPzBoWKUY1m3hnjvBFbVQfNJmX7DM_5dcd3EzL9iXcWNvIQHOuTTVAxhOq7-ynQm7VWxKSmBKbAEaIHPXug2wSj8ybnFUa8Op1_rFkR-AmnqNMp7-EWB5Zf145Xo54CLFIjvxtzImJaqI9Y1C_5fyEYKjKYV-EKm88ZIdPg1m0hOIRNqhEPtM3_wM2OP1Uan71dA7cYIjR0RprochqaIkO6NGPqQpuDca68sm5b0UTPxJaY8ftkW6jPps_A_qSjLLE1LuTRxDw3W0pFUjxMRTQLSObHJM7MQn5-msp5oA9t2N44C7PjEkhiAwW07tFDtnr2e1rG5SjYuPGtKcQA60P9eMCtvlMK_cHSTyYsRCZQnevYMOYIBL4m3gTEeaMQ6C3lFVWM28vjIP18AZEh7dB4FzsY6ONnOKeToFel9EnwHFhFyCX9vHNry5zBG7z9fqmnq500QwXiBoJ1rilxtBVt3486Y6ZWVfcKkrWrgvMB-QU.u5nEdOvoJ0g8qe9wZOX31w',\n",
       "  'IdToken': 'eyJraWQiOiJrbzhLaWtIaWRUOElzOEpMWHdVRjZ3NUpxU0wrXC9yRGdcLzFVUURRMGhQYlk9IiwiYWxnIjoiUlMyNTYifQ.eyJvcmlnaW5fanRpIjoiMDliY2EwNmItZmU1ZS00NzJlLWJmMmUtYmE1YTE1NjFkODFmIiwic3ViIjoiNTk1NTNhYmMtZDU2Ni00Zjg5LWExY2QtMGQwNWU3ZWE3ZTkwIiwiYXVkIjoiMnB1a2dzdWEzbmxvaDZtMWN0cnR1OTk1YzIiLCJldmVudF9pZCI6IjUwMjBmMTliLTZlYjctNDU4Zi1iNmVlLTdlMmQ1ZTU3OWFlYyIsInRva2VuX3VzZSI6ImlkIiwiYXV0aF90aW1lIjoxNjQzMTA4NzMxLCJpc3MiOiJodHRwczpcL1wvY29nbml0by1pZHAuZXUtd2VzdC0yLmFtYXpvbmF3cy5jb21cL2V1LXdlc3QtMl9QUGVmOGpMamwiLCJjb2duaXRvOnVzZXJuYW1lIjoiNTk1NTNhYmMtZDU2Ni00Zjg5LWExY2QtMGQwNWU3ZWE3ZTkwIiwiZXhwIjoxNjQzMTEyMzMxLCJpYXQiOjE2NDMxMDg3MzEsImp0aSI6ImYyY2QxNWZmLWI0NGItNDRlOS04MjdiLTA4MjRmYzVlYmMxNCIsImVtYWlsIjoibGxveWQubG0uaGFtaWx0b25AZ21haWwuY29tIn0.mNUt5LmHreY1-Q0epqob0eQIG-bKMnxfZs0LVUztW7oCrj0kgm0CvzlCpTmmpY8rxfDzll4JP4MlKRgCBQe8OmQwd_PeVSo25k2V_iXrZwWPWrBavuN_NA9SEUuwTcRuTBE-PxN9bM8N1OFqueP-sezBEjDW_Ty0N14b-pu9LmDd8VRhTPovygmoNP-zFlGLgSogXfUSFnSI6NajV6w4w884GLCkmbD0V2Gb9fDHb3CfP4rX6YlshKCq--JUWzqSIfPZh7Xy7xj5l_rEFcbB_tZmQzxOdASQiWeSNircxBUPpT_iwinXfVRDaoadEu1pSOp5RSc2xY22KyfkfCNU6A'},\n",
       " 'ResponseMetadata': {'RequestId': '5020f19b-6eb7-458f-b6ee-7e2d5e579aec',\n",
       "  'HTTPStatusCode': 200,\n",
       "  'HTTPHeaders': {'date': 'Tue, 25 Jan 2022 11:05:31 GMT',\n",
       "   'content-type': 'application/x-amz-json-1.1',\n",
       "   'content-length': '4062',\n",
       "   'connection': 'keep-alive',\n",
       "   'x-amzn-requestid': '5020f19b-6eb7-458f-b6ee-7e2d5e579aec'},\n",
       "  'RetryAttempts': 0}}"
      ]
     },
     "execution_count": 2,
     "metadata": {},
     "output_type": "execute_result"
    }
   ],
   "source": [
    "cognito.auth_challenge('2pukgsua3nloh6m1ctrtu995c2','nZWkM?','CodeClan321')"
   ]
  },
  {
   "cell_type": "code",
   "execution_count": null,
   "metadata": {},
   "outputs": [],
   "source": [
    "!jupyter nbconvert deploying_lambda.ipynb --to html --template classic"
   ]
  }
 ],
 "metadata": {
  "interpreter": {
   "hash": "919d5182d6e251f85cfea4f0d38d6cd16b39376b792c9ccd6a31cc8ff7d08ddb"
  },
  "kernelspec": {
   "display_name": "Python 3 (ipykernel)",
   "language": "python",
   "name": "python3"
  },
  "language_info": {
   "codemirror_mode": {
    "name": "ipython",
    "version": 3
   },
   "file_extension": ".py",
   "mimetype": "text/x-python",
   "name": "python",
   "nbconvert_exporter": "python",
   "pygments_lexer": "ipython3",
   "version": "3.9.7"
  },
  "varInspector": {
   "cols": {
    "lenName": 16,
    "lenType": 16,
    "lenVar": 40
   },
   "kernels_config": {
    "python": {
     "delete_cmd_postfix": "",
     "delete_cmd_prefix": "del ",
     "library": "var_list.py",
     "varRefreshCmd": "print(var_dic_list())"
    },
    "r": {
     "delete_cmd_postfix": ") ",
     "delete_cmd_prefix": "rm(",
     "library": "var_list.r",
     "varRefreshCmd": "cat(var_dic_list()) "
    }
   },
   "types_to_exclude": [
    "module",
    "function",
    "builtin_function_or_method",
    "instance",
    "_Feature"
   ],
   "window_display": false
  }
 },
 "nbformat": 4,
 "nbformat_minor": 2
}
